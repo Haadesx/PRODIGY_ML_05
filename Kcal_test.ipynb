{
 "cells": [
  {
   "cell_type": "code",
   "execution_count": 14,
   "metadata": {},
   "outputs": [],
   "source": [
    "import tensorflow as tf\n",
    "from tensorflow.keras.preprocessing.image import ImageDataGenerator\n",
    "from tensorflow.keras import layers, models, callbacks\n",
    "from sklearn.model_selection import train_test_split\n",
    "import os\n",
    "import numpy as np\n",
    "import matplotlib.pyplot as plt\n",
    "\n",
    "# Define paths\n",
    "data_dir = r\"D:/Internships/Prodigy Infotech/FOOD_KCAL/food-101/images\"\n",
    "meta_dir = r\"D:/Internships/Prodigy Infotech/FOOD_KCAL/food-101/meta\""
   ]
  },
  {
   "cell_type": "code",
   "execution_count": 15,
   "metadata": {},
   "outputs": [],
   "source": [
    "# Define class names\n",
    "class_names = [\n",
    "    \"apple_pie\", \"baby_back_ribs\", \"baklava\", \"beef_carpaccio\", \"beef_tartare\",\n",
    "    \"beet_salad\", \"beignets\", \"bibimbap\", \"bread_pudding\", \"breakfast_burrito\",\n",
    "    \"bruschetta\", \"caesar_salad\", \"cannoli\", \"caprese_salad\", \"carrot_cake\",\n",
    "    \"ceviche\", \"cheesecake\", \"cheese_plate\", \"chicken_curry\", \"chicken_quesadilla\",\n",
    "    \"chicken_wings\", \"chocolate_cake\", \"chocolate_mousse\", \"churros\", \"clam_chowder\",\n",
    "    \"club_sandwich\", \"crab_cakes\", \"creme_brulee\", \"croque_madame\", \"cup_cakes\",\n",
    "    \"deviled_eggs\", \"donuts\", \"dumplings\", \"edamame\", \"eggs_benedict\", \"escargots\",\n",
    "    \"falafel\", \"filet_mignon\", \"fish_and_chips\", \"foie_gras\", \"french_fries\",\n",
    "    \"french_onion_soup\", \"french_toast\", \"fried_calamari\", \"fried_rice\", \"frozen_yogurt\",\n",
    "    \"garlic_bread\", \"gnocchi\", \"greek_salad\", \"grilled_cheese_sandwich\", \"grilled_salmon\",\n",
    "    \"guacamole\", \"gyoza\", \"hamburger\", \"hot_and_sour_soup\", \"hot_dog\", \"huevos_rancheros\",\n",
    "    \"hummus\", \"ice_cream\", \"lasagna\", \"lobster_bisque\", \"lobster_roll_sandwich\",\n",
    "    \"macaroni_and_cheese\", \"macarons\", \"miso_soup\", \"mussels\", \"nachos\", \"omelette\",\n",
    "    \"onion_rings\", \"oysters\", \"pad_thai\", \"paella\", \"pancakes\", \"panna_cotta\",\n",
    "    \"peking_duck\", \"pho\", \"pizza\", \"pork_chop\", \"poutine\", \"prime_rib\",\n",
    "    \"pulled_pork_sandwich\", \"ramen\", \"ravioli\", \"red_velvet_cake\", \"risotto\",\n",
    "    \"samosa\", \"sashimi\", \"scallops\", \"seaweed_salad\", \"shrimp_and_grits\",\n",
    "    \"spaghetti_bolognese\", \"spaghetti_carbonara\", \"spring_rolls\", \"steak\",\n",
    "    \"strawberry_shortcake\", \"sushi\", \"tacos\", \"takoyaki\", \"tiramisu\", \"tuna_tartare\",\n",
    "    \"waffles\"\n",
    "]"
   ]
  },
  {
   "cell_type": "code",
   "execution_count": 16,
   "metadata": {},
   "outputs": [],
   "source": [
    "# Create label dictionary\n",
    "label_dict = {class_name: i for i, class_name in enumerate(class_names)}\n",
    "\n",
    "# Image dimensions\n",
    "img_height = 224\n",
    "img_width = 224\n",
    "batch_size = 32\n",
    "\n",
    "# Create ImageDataGenerator\n",
    "datagen = ImageDataGenerator(rescale=1./255, validation_split=0.2)"
   ]
  },
  {
   "cell_type": "code",
   "execution_count": 17,
   "metadata": {},
   "outputs": [],
   "source": [
    "# Load and preprocess images using ImageDataGenerator\n",
    "train_generator = datagen.flow_from_directory(\n",
    "    data_dir,\n",
    "    target_size=(img_height, img_width),\n",
    "    batch_size=batch_size,\n",
    "    class_mode='sparse',\n",
    "    subset='training',\n",
    "    shuffle=True,\n",
    "    classes=class_names\n",
    ")\n",
    "\n",
    "val_generator = datagen.flow_from_directory(\n",
    "    data_dir,\n",
    "    target_size=(img_height, img_width),\n",
    "    batch_size=batch_size,\n",
    "    class_mode='sparse',\n",
    "    subset='validation',\n",
    "    shuffle=False,\n",
    "    classes=class_names\n",
    ")"
   ]
  },
  {
   "cell_type": "code",
   "execution_count": null,
   "metadata": {},
   "outputs": [],
   "source": [
    "# Define the CNN model\n",
    "def create_model(input_shape):\n",
    "    model = models.Sequential([\n",
    "        layers.Conv2D(32, (3, 3), activation='relu', input_shape=input_shape),\n",
    "        layers.MaxPooling2D((2, 2)),\n",
    "        layers.Conv2D(64, (3, 3), activation='relu'),\n",
    "        layers.MaxPooling2D((2, 2)),\n",
    "        layers.Conv2D(128, (3, 3), activation='relu'),\n",
    "        layers.MaxPooling2D((2, 2)),\n",
    "        layers.Conv2D(128, (3, 3), activation='relu'),\n",
    "        layers.MaxPooling2D((2, 2)),\n",
    "        layers.Flatten(),\n",
    "        layers.Dense(512, activation='relu'),\n",
    "        layers.Dense(len(class_names), activation='softmax')  # Classification output\n",
    "    ])\n",
    "    return model\n"
   ]
  },
  {
   "cell_type": "code",
   "execution_count": null,
   "metadata": {},
   "outputs": [],
   "source": [
    "# Create the model\n",
    "input_shape = (img_height, img_width, 3)\n",
    "model = create_model(input_shape)\n",
    "\n",
    "# Compile the model\n",
    "model.compile(optimizer='adam', loss='sparse_categorical_crossentropy', metrics=['accuracy'])\n",
    "\n",
    "# Define a callback to save the training history\n",
    "history_callback = callbacks.History()\n",
    "\n",
    "# Train the model with the history callback\n",
    "history = model.fit(train_generator, epochs=10, validation_data=val_generator, callbacks=[history_callback])\n"
   ]
  },
  {
   "cell_type": "code",
   "execution_count": null,
   "metadata": {},
   "outputs": [],
   "source": [
    "# Save the model\n",
    "model.save('food_model.keras')\n"
   ]
  },
  {
   "cell_type": "code",
   "execution_count": null,
   "metadata": {},
   "outputs": [],
   "source": [
    "# Save the training history\n",
    "np.save('training_history.npy', history_callback.history)\n",
    "\n",
    "# Evaluate the model on test set\n",
    "loss, accuracy = model.evaluate(val_generator)\n",
    "print(\"Validation Accuracy:\", accuracy)"
   ]
  },
  {
   "cell_type": "code",
   "execution_count": null,
   "metadata": {},
   "outputs": [],
   "source": [
    "# Plot training history\n",
    "def plot_history(history):\n",
    "    plt.figure(figsize=(10, 5))\n",
    "    plt.plot(history.history['accuracy'], label='Training Accuracy')\n",
    "    plt.plot(history.history['val_accuracy'], label='Validation Accuracy')\n",
    "    plt.xlabel('Epochs')\n",
    "    plt.ylabel('Accuracy')\n",
    "    plt.title('Training and Validation Accuracy')\n",
    "    plt.legend()\n",
    "    plt.show()\n",
    "\n",
    "plot_history(history)"
   ]
  }
 ],
 "metadata": {
  "kernelspec": {
   "display_name": "Python 3",
   "language": "python",
   "name": "python3"
  },
  "language_info": {
   "codemirror_mode": {
    "name": "ipython",
    "version": 3
   },
   "file_extension": ".py",
   "mimetype": "text/x-python",
   "name": "python",
   "nbconvert_exporter": "python",
   "pygments_lexer": "ipython3",
   "version": "3.11.9"
  }
 },
 "nbformat": 4,
 "nbformat_minor": 2
}
